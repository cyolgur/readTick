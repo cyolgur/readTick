{
 "cells": [
  {
   "cell_type": "code",
   "execution_count": 1,
   "metadata": {},
   "outputs": [],
   "source": [
    "import sys\n",
    "sys.path.append(\"F:/readTick/dataAdapter-1.0.1/\")\n",
    "import dataAdapter.mysqlAdapter as dataAdapter\n",
    "mysql = dataAdapter.sql_adapter('192.168.1.22', 'public', 'jz123456')\n",
    "import os\n",
    "import pandas as pd\n",
    "\n",
    "PATH1 = 'F://wellDoneOrder1'\n",
    "filenames = os.listdir(PATH1)\n",
    "DESPATH = 'C:/tickdata_order/'"
   ]
  },
  {
   "cell_type": "code",
   "execution_count": 2,
   "metadata": {},
   "outputs": [],
   "source": [
    "def handleInstID(a_str):\n",
    "    inst = \"\".join(filter(str.isalpha, a_str)).upper()\n",
    "    date = \"\".join(filter(str.isdigit, a_str))\n",
    "    if len(date)<4:\n",
    "        date = '2{}'.format(date)\n",
    "    return inst + date"
   ]
  },
  {
   "cell_type": "code",
   "execution_count": 3,
   "metadata": {},
   "outputs": [],
   "source": [
    "def read_and_write(file):\n",
    "    tmp = pd.read_csv(os.path.join(PATH1, file))\n",
    "    contractList = list(set(tmp['instrument_id'].apply(handleInstID)))\n",
    "    date = ''.join(filter(str.isdigit, file))\n",
    "    tmpdir = os.path.join(DESPATH ,date)\n",
    "    if not os.path.exists(tmpdir):\n",
    "        os.mkdir(tmpdir )\n",
    "    for contract in contractList:\n",
    "        print(contract)\n",
    "        data = dataAdapter.get_futures_data(contract, date)\n",
    "        data.to_csv(os.path.join(tmpdir, '{}.csv'.format(contract)),\n",
    "            index=False)\n",
    "    return \n",
    "\n",
    "    "
   ]
  },
  {
   "cell_type": "code",
   "execution_count": 4,
   "metadata": {
    "scrolled": true
   },
   "outputs": [
    {
     "name": "stdout",
     "output_type": "stream",
     "text": [
      "order_20210929.csv\n"
     ]
    },
    {
     "ename": "KeyError",
     "evalue": "'No object named MC22013500 in the file'",
     "output_type": "error",
     "traceback": [
      "\u001b[1;31m---------------------------------------------------------------------------\u001b[0m",
      "\u001b[1;31mKeyError\u001b[0m                                  Traceback (most recent call last)",
      "\u001b[1;32m<ipython-input-4-77260c68736f>\u001b[0m in \u001b[0;36m<module>\u001b[1;34m\u001b[0m\n\u001b[0;32m      2\u001b[0m \u001b[1;32mfor\u001b[0m \u001b[0mfile\u001b[0m \u001b[1;32min\u001b[0m \u001b[0mfilenames\u001b[0m\u001b[1;33m:\u001b[0m\u001b[1;33m\u001b[0m\u001b[1;33m\u001b[0m\u001b[0m\n\u001b[0;32m      3\u001b[0m     \u001b[0mprint\u001b[0m\u001b[1;33m(\u001b[0m\u001b[0mfile\u001b[0m\u001b[1;33m)\u001b[0m\u001b[1;33m\u001b[0m\u001b[1;33m\u001b[0m\u001b[0m\n\u001b[1;32m----> 4\u001b[1;33m     \u001b[0mread_and_write\u001b[0m\u001b[1;33m(\u001b[0m\u001b[0mfile\u001b[0m\u001b[1;33m)\u001b[0m\u001b[1;33m\u001b[0m\u001b[1;33m\u001b[0m\u001b[0m\n\u001b[0m",
      "\u001b[1;32m<ipython-input-3-ed89d11ab2af>\u001b[0m in \u001b[0;36mread_and_write\u001b[1;34m(file)\u001b[0m\n\u001b[0;32m      7\u001b[0m         \u001b[0mos\u001b[0m\u001b[1;33m.\u001b[0m\u001b[0mmkdir\u001b[0m\u001b[1;33m(\u001b[0m\u001b[0mtmpdir\u001b[0m \u001b[1;33m)\u001b[0m\u001b[1;33m\u001b[0m\u001b[1;33m\u001b[0m\u001b[0m\n\u001b[0;32m      8\u001b[0m     \u001b[1;32mfor\u001b[0m \u001b[0mcontract\u001b[0m \u001b[1;32min\u001b[0m \u001b[0mcontractList\u001b[0m\u001b[1;33m:\u001b[0m\u001b[1;33m\u001b[0m\u001b[1;33m\u001b[0m\u001b[0m\n\u001b[1;32m----> 9\u001b[1;33m         \u001b[0mdata\u001b[0m \u001b[1;33m=\u001b[0m \u001b[0mdataAdapter\u001b[0m\u001b[1;33m.\u001b[0m\u001b[0mget_futures_data\u001b[0m\u001b[1;33m(\u001b[0m\u001b[0mcontract\u001b[0m\u001b[1;33m,\u001b[0m \u001b[0mdate\u001b[0m\u001b[1;33m)\u001b[0m\u001b[1;33m\u001b[0m\u001b[1;33m\u001b[0m\u001b[0m\n\u001b[0m\u001b[0;32m     10\u001b[0m         data.to_csv(os.path.join(tmpdir, '{}.csv'.format(contract)),\n\u001b[0;32m     11\u001b[0m             index=False)\n",
      "\u001b[1;32mF:/readTick/dataAdapter-1.0.1\\dataAdapter\\mysqlAdapter.py\u001b[0m in \u001b[0;36mget_futures_data\u001b[1;34m(code, date, column_list, start, end, other)\u001b[0m\n\u001b[0;32m    748\u001b[0m         \u001b[0mtable_name\u001b[0m \u001b[1;33m=\u001b[0m \u001b[1;34m'//192.168.1.13/data/tick_hdf5/ctp_tick/'\u001b[0m \u001b[1;33m+\u001b[0m \u001b[0mdate\u001b[0m\u001b[1;33m[\u001b[0m\u001b[1;36m0\u001b[0m\u001b[1;33m:\u001b[0m\u001b[1;36m6\u001b[0m\u001b[1;33m]\u001b[0m \u001b[1;33m+\u001b[0m \u001b[1;34m'/ctp_tick_'\u001b[0m \u001b[1;33m+\u001b[0m \u001b[0mdate\u001b[0m \u001b[1;33m+\u001b[0m \u001b[1;34m'.h5'\u001b[0m\u001b[1;33m\u001b[0m\u001b[1;33m\u001b[0m\u001b[0m\n\u001b[0;32m    749\u001b[0m \u001b[1;33m\u001b[0m\u001b[0m\n\u001b[1;32m--> 750\u001b[1;33m     \u001b[0mdata_other\u001b[0m \u001b[1;33m=\u001b[0m \u001b[0mpd\u001b[0m\u001b[1;33m.\u001b[0m\u001b[0mread_hdf\u001b[0m\u001b[1;33m(\u001b[0m\u001b[0mtable_name\u001b[0m\u001b[1;33m,\u001b[0m \u001b[0mkey\u001b[0m\u001b[1;33m=\u001b[0m\u001b[0mcode\u001b[0m\u001b[1;33m)\u001b[0m\u001b[1;33m\u001b[0m\u001b[1;33m\u001b[0m\u001b[0m\n\u001b[0m\u001b[0;32m    751\u001b[0m     \u001b[1;32mreturn\u001b[0m \u001b[0mdata_other\u001b[0m\u001b[1;33m\u001b[0m\u001b[1;33m\u001b[0m\u001b[0m\n\u001b[0;32m    752\u001b[0m \u001b[1;33m\u001b[0m\u001b[0m\n",
      "\u001b[1;32mE:\\anaconda3\\lib\\site-packages\\pandas\\io\\pytables.py\u001b[0m in \u001b[0;36mread_hdf\u001b[1;34m(path_or_buf, key, mode, errors, where, start, stop, columns, iterator, chunksize, **kwargs)\u001b[0m\n\u001b[0;32m    453\u001b[0m                     )\n\u001b[0;32m    454\u001b[0m             \u001b[0mkey\u001b[0m \u001b[1;33m=\u001b[0m \u001b[0mcandidate_only_group\u001b[0m\u001b[1;33m.\u001b[0m\u001b[0m_v_pathname\u001b[0m\u001b[1;33m\u001b[0m\u001b[1;33m\u001b[0m\u001b[0m\n\u001b[1;32m--> 455\u001b[1;33m         return store.select(\n\u001b[0m\u001b[0;32m    456\u001b[0m             \u001b[0mkey\u001b[0m\u001b[1;33m,\u001b[0m\u001b[1;33m\u001b[0m\u001b[1;33m\u001b[0m\u001b[0m\n\u001b[0;32m    457\u001b[0m             \u001b[0mwhere\u001b[0m\u001b[1;33m=\u001b[0m\u001b[0mwhere\u001b[0m\u001b[1;33m,\u001b[0m\u001b[1;33m\u001b[0m\u001b[1;33m\u001b[0m\u001b[0m\n",
      "\u001b[1;32mE:\\anaconda3\\lib\\site-packages\\pandas\\io\\pytables.py\u001b[0m in \u001b[0;36mselect\u001b[1;34m(self, key, where, start, stop, columns, iterator, chunksize, auto_close)\u001b[0m\n\u001b[0;32m    848\u001b[0m         \u001b[0mgroup\u001b[0m \u001b[1;33m=\u001b[0m \u001b[0mself\u001b[0m\u001b[1;33m.\u001b[0m\u001b[0mget_node\u001b[0m\u001b[1;33m(\u001b[0m\u001b[0mkey\u001b[0m\u001b[1;33m)\u001b[0m\u001b[1;33m\u001b[0m\u001b[1;33m\u001b[0m\u001b[0m\n\u001b[0;32m    849\u001b[0m         \u001b[1;32mif\u001b[0m \u001b[0mgroup\u001b[0m \u001b[1;32mis\u001b[0m \u001b[1;32mNone\u001b[0m\u001b[1;33m:\u001b[0m\u001b[1;33m\u001b[0m\u001b[1;33m\u001b[0m\u001b[0m\n\u001b[1;32m--> 850\u001b[1;33m             \u001b[1;32mraise\u001b[0m \u001b[0mKeyError\u001b[0m\u001b[1;33m(\u001b[0m\u001b[1;34mf\"No object named {key} in the file\"\u001b[0m\u001b[1;33m)\u001b[0m\u001b[1;33m\u001b[0m\u001b[1;33m\u001b[0m\u001b[0m\n\u001b[0m\u001b[0;32m    851\u001b[0m \u001b[1;33m\u001b[0m\u001b[0m\n\u001b[0;32m    852\u001b[0m         \u001b[1;31m# create the storer and axes\u001b[0m\u001b[1;33m\u001b[0m\u001b[1;33m\u001b[0m\u001b[1;33m\u001b[0m\u001b[0m\n",
      "\u001b[1;31mKeyError\u001b[0m: 'No object named MC22013500 in the file'"
     ]
    }
   ],
   "source": [
    "filenames = filenames[227:]\n",
    "for file in filenames:\n",
    "    print(file)\n",
    "    read_and_write(file)"
   ]
  },
  {
   "cell_type": "code",
   "execution_count": 147,
   "metadata": {},
   "outputs": [],
   "source": [
    "def readTickData(path):\n",
    "    tmp = pd.read_csv(path,\n",
    "                      usecols=['TDATE', 'TTIME','LASTPX', 'TQ',\n",
    "                               'TM', 'S1', 'B1', 'SV1', 'BV1',\n",
    "                               'OPENINTEREST'],\n",
    "                      dtype={\n",
    "                          'TDATE': str,\n",
    "                          'TTIME': str,\n",
    "                          'LASTPX': np.float64,\n",
    "                          'TQ': np.float64,\n",
    "                          'TM': np.float64,\n",
    "                          'S1': np.float64,\n",
    "                          'B1': np.float64,\n",
    "                          'SV1': np.float64,\n",
    "                          'BV1': np.float64,\n",
    "                          'OPENINTEREST': np.float64,\n",
    "                      },\n",
    "\n",
    "                      parse_dates= [['TDATE','TTIME']],\n",
    "                      engine='c')\n",
    "\n",
    "\n",
    "    return tmp"
   ]
  },
  {
   "cell_type": "code",
   "execution_count": 148,
   "metadata": {},
   "outputs": [],
   "source": [
    "tmp = readTickData('C:/tickdata_order/20201231/JM2105.csv')"
   ]
  },
  {
   "cell_type": "code",
   "execution_count": 149,
   "metadata": {
    "scrolled": true
   },
   "outputs": [
    {
     "data": {
      "text/html": [
       "<div>\n",
       "<style scoped>\n",
       "    .dataframe tbody tr th:only-of-type {\n",
       "        vertical-align: middle;\n",
       "    }\n",
       "\n",
       "    .dataframe tbody tr th {\n",
       "        vertical-align: top;\n",
       "    }\n",
       "\n",
       "    .dataframe thead th {\n",
       "        text-align: right;\n",
       "    }\n",
       "</style>\n",
       "<table border=\"1\" class=\"dataframe\">\n",
       "  <thead>\n",
       "    <tr style=\"text-align: right;\">\n",
       "      <th></th>\n",
       "      <th>TDATE_TTIME</th>\n",
       "      <th>LASTPX</th>\n",
       "      <th>TQ</th>\n",
       "      <th>TM</th>\n",
       "      <th>S1</th>\n",
       "      <th>B1</th>\n",
       "      <th>SV1</th>\n",
       "      <th>BV1</th>\n",
       "      <th>OPENINTEREST</th>\n",
       "    </tr>\n",
       "  </thead>\n",
       "  <tbody>\n",
       "    <tr>\n",
       "      <th>0</th>\n",
       "      <td>2020-12-30 20:59:00</td>\n",
       "      <td>1648.0</td>\n",
       "      <td>263.0</td>\n",
       "      <td>2.600544e+07</td>\n",
       "      <td>1648.0</td>\n",
       "      <td>1647.0</td>\n",
       "      <td>10.0</td>\n",
       "      <td>2.0</td>\n",
       "      <td>116723.0</td>\n",
       "    </tr>\n",
       "    <tr>\n",
       "      <th>1</th>\n",
       "      <td>2020-12-30 21:00:00</td>\n",
       "      <td>1647.0</td>\n",
       "      <td>293.0</td>\n",
       "      <td>2.896974e+07</td>\n",
       "      <td>1647.0</td>\n",
       "      <td>1645.5</td>\n",
       "      <td>14.0</td>\n",
       "      <td>1.0</td>\n",
       "      <td>116708.0</td>\n",
       "    </tr>\n",
       "    <tr>\n",
       "      <th>2</th>\n",
       "      <td>2020-12-30 21:00:00</td>\n",
       "      <td>1647.0</td>\n",
       "      <td>388.0</td>\n",
       "      <td>3.835452e+07</td>\n",
       "      <td>1647.0</td>\n",
       "      <td>1646.5</td>\n",
       "      <td>12.0</td>\n",
       "      <td>2.0</td>\n",
       "      <td>116675.0</td>\n",
       "    </tr>\n",
       "    <tr>\n",
       "      <th>3</th>\n",
       "      <td>2020-12-30 21:00:01</td>\n",
       "      <td>1645.5</td>\n",
       "      <td>433.0</td>\n",
       "      <td>4.279908e+07</td>\n",
       "      <td>1646.5</td>\n",
       "      <td>1645.5</td>\n",
       "      <td>52.0</td>\n",
       "      <td>40.0</td>\n",
       "      <td>116682.0</td>\n",
       "    </tr>\n",
       "    <tr>\n",
       "      <th>4</th>\n",
       "      <td>2020-12-30 21:00:01</td>\n",
       "      <td>1645.5</td>\n",
       "      <td>475.0</td>\n",
       "      <td>4.694628e+07</td>\n",
       "      <td>1646.5</td>\n",
       "      <td>1645.5</td>\n",
       "      <td>49.0</td>\n",
       "      <td>11.0</td>\n",
       "      <td>116658.0</td>\n",
       "    </tr>\n",
       "    <tr>\n",
       "      <th>...</th>\n",
       "      <td>...</td>\n",
       "      <td>...</td>\n",
       "      <td>...</td>\n",
       "      <td>...</td>\n",
       "      <td>...</td>\n",
       "      <td>...</td>\n",
       "      <td>...</td>\n",
       "      <td>...</td>\n",
       "      <td>...</td>\n",
       "    </tr>\n",
       "    <tr>\n",
       "      <th>34846</th>\n",
       "      <td>2020-12-31 14:59:59</td>\n",
       "      <td>1629.0</td>\n",
       "      <td>197152.0</td>\n",
       "      <td>1.937990e+10</td>\n",
       "      <td>1629.5</td>\n",
       "      <td>1629.0</td>\n",
       "      <td>3.0</td>\n",
       "      <td>6.0</td>\n",
       "      <td>103495.0</td>\n",
       "    </tr>\n",
       "    <tr>\n",
       "      <th>34847</th>\n",
       "      <td>2020-12-31 14:59:59</td>\n",
       "      <td>1629.0</td>\n",
       "      <td>197155.0</td>\n",
       "      <td>1.938019e+10</td>\n",
       "      <td>1629.5</td>\n",
       "      <td>1629.0</td>\n",
       "      <td>3.0</td>\n",
       "      <td>4.0</td>\n",
       "      <td>103492.0</td>\n",
       "    </tr>\n",
       "    <tr>\n",
       "      <th>34848</th>\n",
       "      <td>2020-12-31 15:00:00</td>\n",
       "      <td>1629.0</td>\n",
       "      <td>197155.0</td>\n",
       "      <td>1.938019e+10</td>\n",
       "      <td>1629.5</td>\n",
       "      <td>1629.0</td>\n",
       "      <td>3.0</td>\n",
       "      <td>4.0</td>\n",
       "      <td>103492.0</td>\n",
       "    </tr>\n",
       "    <tr>\n",
       "      <th>34849</th>\n",
       "      <td>2020-12-31 15:03:52</td>\n",
       "      <td>1629.0</td>\n",
       "      <td>197155.0</td>\n",
       "      <td>1.938019e+10</td>\n",
       "      <td>1629.5</td>\n",
       "      <td>1629.0</td>\n",
       "      <td>3.0</td>\n",
       "      <td>4.0</td>\n",
       "      <td>103492.0</td>\n",
       "    </tr>\n",
       "    <tr>\n",
       "      <th>34850</th>\n",
       "      <td>2020-12-31 15:11:14</td>\n",
       "      <td>1629.0</td>\n",
       "      <td>197155.0</td>\n",
       "      <td>1.938019e+10</td>\n",
       "      <td>1629.5</td>\n",
       "      <td>1629.0</td>\n",
       "      <td>3.0</td>\n",
       "      <td>4.0</td>\n",
       "      <td>103492.0</td>\n",
       "    </tr>\n",
       "  </tbody>\n",
       "</table>\n",
       "<p>34851 rows × 9 columns</p>\n",
       "</div>"
      ],
      "text/plain": [
       "              TDATE_TTIME  LASTPX        TQ            TM      S1      B1  \\\n",
       "0     2020-12-30 20:59:00  1648.0     263.0  2.600544e+07  1648.0  1647.0   \n",
       "1     2020-12-30 21:00:00  1647.0     293.0  2.896974e+07  1647.0  1645.5   \n",
       "2     2020-12-30 21:00:00  1647.0     388.0  3.835452e+07  1647.0  1646.5   \n",
       "3     2020-12-30 21:00:01  1645.5     433.0  4.279908e+07  1646.5  1645.5   \n",
       "4     2020-12-30 21:00:01  1645.5     475.0  4.694628e+07  1646.5  1645.5   \n",
       "...                   ...     ...       ...           ...     ...     ...   \n",
       "34846 2020-12-31 14:59:59  1629.0  197152.0  1.937990e+10  1629.5  1629.0   \n",
       "34847 2020-12-31 14:59:59  1629.0  197155.0  1.938019e+10  1629.5  1629.0   \n",
       "34848 2020-12-31 15:00:00  1629.0  197155.0  1.938019e+10  1629.5  1629.0   \n",
       "34849 2020-12-31 15:03:52  1629.0  197155.0  1.938019e+10  1629.5  1629.0   \n",
       "34850 2020-12-31 15:11:14  1629.0  197155.0  1.938019e+10  1629.5  1629.0   \n",
       "\n",
       "        SV1   BV1  OPENINTEREST  \n",
       "0      10.0   2.0      116723.0  \n",
       "1      14.0   1.0      116708.0  \n",
       "2      12.0   2.0      116675.0  \n",
       "3      52.0  40.0      116682.0  \n",
       "4      49.0  11.0      116658.0  \n",
       "...     ...   ...           ...  \n",
       "34846   3.0   6.0      103495.0  \n",
       "34847   3.0   4.0      103492.0  \n",
       "34848   3.0   4.0      103492.0  \n",
       "34849   3.0   4.0      103492.0  \n",
       "34850   3.0   4.0      103492.0  \n",
       "\n",
       "[34851 rows x 9 columns]"
      ]
     },
     "execution_count": 149,
     "metadata": {},
     "output_type": "execute_result"
    }
   ],
   "source": [
    "tmp"
   ]
  },
  {
   "cell_type": "code",
   "execution_count": 150,
   "metadata": {},
   "outputs": [
    {
     "data": {
      "text/plain": [
       "array([[Timestamp('2020-12-30 20:59:00'), 1648.0, 263.0, ..., 10.0, 2.0,\n",
       "        116723.0],\n",
       "       [Timestamp('2020-12-30 21:00:00'), 1647.0, 293.0, ..., 14.0, 1.0,\n",
       "        116708.0],\n",
       "       [Timestamp('2020-12-30 21:00:00'), 1647.0, 388.0, ..., 12.0, 2.0,\n",
       "        116675.0],\n",
       "       ...,\n",
       "       [Timestamp('2020-12-31 15:00:00'), 1629.0, 197155.0, ..., 3.0,\n",
       "        4.0, 103492.0],\n",
       "       [Timestamp('2020-12-31 15:03:52'), 1629.0, 197155.0, ..., 3.0,\n",
       "        4.0, 103492.0],\n",
       "       [Timestamp('2020-12-31 15:11:14'), 1629.0, 197155.0, ..., 3.0,\n",
       "        4.0, 103492.0]], dtype=object)"
      ]
     },
     "execution_count": 150,
     "metadata": {},
     "output_type": "execute_result"
    }
   ],
   "source": [
    "np.array(tmp)"
   ]
  },
  {
   "cell_type": "code",
   "execution_count": 154,
   "metadata": {},
   "outputs": [
    {
     "data": {
      "text/plain": [
       "array([2, 3])"
      ]
     },
     "execution_count": 154,
     "metadata": {},
     "output_type": "execute_result"
    }
   ],
   "source": [
    "np.array([2.0,3]).astype(int)"
   ]
  },
  {
   "cell_type": "code",
   "execution_count": 155,
   "metadata": {},
   "outputs": [
    {
     "data": {
      "text/plain": [
       "1.2941176470588236"
      ]
     },
     "execution_count": 155,
     "metadata": {},
     "output_type": "execute_result"
    }
   ],
   "source": [
    "220/170"
   ]
  },
  {
   "cell_type": "code",
   "execution_count": 156,
   "metadata": {},
   "outputs": [
    {
     "data": {
      "text/plain": [
       "'ABS12'"
      ]
     },
     "execution_count": 156,
     "metadata": {},
     "output_type": "execute_result"
    }
   ],
   "source": [
    "'abs12'.upper()"
   ]
  },
  {
   "cell_type": "code",
   "execution_count": null,
   "metadata": {},
   "outputs": [],
   "source": []
  }
 ],
 "metadata": {
  "kernelspec": {
   "display_name": "Python 3",
   "language": "python",
   "name": "python3"
  },
  "language_info": {
   "codemirror_mode": {
    "name": "ipython",
    "version": 3
   },
   "file_extension": ".py",
   "mimetype": "text/x-python",
   "name": "python",
   "nbconvert_exporter": "python",
   "pygments_lexer": "ipython3",
   "version": "3.8.5"
  }
 },
 "nbformat": 4,
 "nbformat_minor": 4
}
