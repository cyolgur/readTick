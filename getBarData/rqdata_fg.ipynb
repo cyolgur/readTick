{
 "cells": [
  {
   "cell_type": "code",
   "execution_count": 1,
   "id": "d1943013",
   "metadata": {},
   "outputs": [],
   "source": [
    "import pandas as pd\n",
    "import numpy as np\n",
    "import os\n",
    "from matplotlib import pyplot as plt\n",
    "from datetime import datetime\n",
    "import rqdatac as rq\n",
    "from rqdatac import *"
   ]
  },
  {
   "cell_type": "code",
   "execution_count": 2,
   "id": "10afff05",
   "metadata": {},
   "outputs": [],
   "source": [
    "rq.init('18811472509','dennis19940821')\n",
    "rq.user.get_quota()"
   ]
  },
  {
   "cell_type": "code",
   "execution_count": 5,
   "id": "910f0972",
   "metadata": {
    "scrolled": false
   },
   "outputs": [],
   "source": [
    "fg_data = futures.get_dominant_price('FG',\n",
    "                           start_date='2017-01-01',\n",
    "                           end_date='2020-12-31',\n",
    "                           frequency='1d',\n",
    "                           fields=['open', 'close'],\n",
    "                           adjust_type='pre', \n",
    "                           adjust_method='open_ratio')"
   ]
  },
  {
   "cell_type": "code",
   "execution_count": 7,
   "id": "e8985401",
   "metadata": {},
   "outputs": [
    {
     "data": {
      "text/html": [
       "<div>\n",
       "<style scoped>\n",
       "    .dataframe tbody tr th:only-of-type {\n",
       "        vertical-align: middle;\n",
       "    }\n",
       "\n",
       "    .dataframe tbody tr th {\n",
       "        vertical-align: top;\n",
       "    }\n",
       "\n",
       "    .dataframe thead th {\n",
       "        text-align: right;\n",
       "    }\n",
       "</style>\n",
       "<table border=\"1\" class=\"dataframe\">\n",
       "  <thead>\n",
       "    <tr style=\"text-align: right;\">\n",
       "      <th></th>\n",
       "      <th></th>\n",
       "      <th>open</th>\n",
       "      <th>close</th>\n",
       "    </tr>\n",
       "    <tr>\n",
       "      <th>underlying_symbol</th>\n",
       "      <th>date</th>\n",
       "      <th></th>\n",
       "      <th></th>\n",
       "    </tr>\n",
       "  </thead>\n",
       "  <tbody>\n",
       "    <tr>\n",
       "      <th rowspan=\"11\" valign=\"top\">FG</th>\n",
       "      <th>2017-01-03</th>\n",
       "      <td>975.046284</td>\n",
       "      <td>959.114155</td>\n",
       "    </tr>\n",
       "    <tr>\n",
       "      <th>2017-01-04</th>\n",
       "      <td>962.300581</td>\n",
       "      <td>962.300581</td>\n",
       "    </tr>\n",
       "    <tr>\n",
       "      <th>2017-01-05</th>\n",
       "      <td>960.707368</td>\n",
       "      <td>964.690400</td>\n",
       "    </tr>\n",
       "    <tr>\n",
       "      <th>2017-01-06</th>\n",
       "      <td>964.690400</td>\n",
       "      <td>960.707368</td>\n",
       "    </tr>\n",
       "    <tr>\n",
       "      <th>2017-01-09</th>\n",
       "      <td>961.503974</td>\n",
       "      <td>978.232710</td>\n",
       "    </tr>\n",
       "    <tr>\n",
       "      <th>...</th>\n",
       "      <td>...</td>\n",
       "      <td>...</td>\n",
       "    </tr>\n",
       "    <tr>\n",
       "      <th>2020-12-25</th>\n",
       "      <td>1922.796267</td>\n",
       "      <td>1931.880343</td>\n",
       "    </tr>\n",
       "    <tr>\n",
       "      <th>2020-12-28</th>\n",
       "      <td>1936.927053</td>\n",
       "      <td>1868.291806</td>\n",
       "    </tr>\n",
       "    <tr>\n",
       "      <th>2020-12-29</th>\n",
       "      <td>1870.310489</td>\n",
       "      <td>1874.347857</td>\n",
       "    </tr>\n",
       "    <tr>\n",
       "      <th>2020-12-30</th>\n",
       "      <td>1880.403908</td>\n",
       "      <td>1869.301147</td>\n",
       "    </tr>\n",
       "    <tr>\n",
       "      <th>2020-12-31</th>\n",
       "      <td>1866.273122</td>\n",
       "      <td>1876.366541</td>\n",
       "    </tr>\n",
       "  </tbody>\n",
       "</table>\n",
       "<p>974 rows × 2 columns</p>\n",
       "</div>"
      ],
      "text/plain": [
       "                                     open        close\n",
       "underlying_symbol date                                \n",
       "FG                2017-01-03   975.046284   959.114155\n",
       "                  2017-01-04   962.300581   962.300581\n",
       "                  2017-01-05   960.707368   964.690400\n",
       "                  2017-01-06   964.690400   960.707368\n",
       "                  2017-01-09   961.503974   978.232710\n",
       "...                                   ...          ...\n",
       "                  2020-12-25  1922.796267  1931.880343\n",
       "                  2020-12-28  1936.927053  1868.291806\n",
       "                  2020-12-29  1870.310489  1874.347857\n",
       "                  2020-12-30  1880.403908  1869.301147\n",
       "                  2020-12-31  1866.273122  1876.366541\n",
       "\n",
       "[974 rows x 2 columns]"
      ]
     },
     "execution_count": 7,
     "metadata": {},
     "output_type": "execute_result"
    }
   ],
   "source": [
    "fg_data"
   ]
  },
  {
   "cell_type": "code",
   "execution_count": 9,
   "id": "2aee6d70",
   "metadata": {},
   "outputs": [],
   "source": [
    "OLD_PATH = 'D:/data_new'\n",
    "NEW_PATH = 'D:/data_3part_consecutive_by_name'\n",
    "OPEN_NAME = 'index_open.csv'\n",
    "CLOSE_NAME = 'index_close.csv'"
   ]
  },
  {
   "cell_type": "code",
   "execution_count": 28,
   "id": "7729baa7",
   "metadata": {},
   "outputs": [],
   "source": [
    "old_close = pd.read_csv(os.path.join(OLD_PATH, CLOSE_NAME),\n",
    "                       index_col = [0,1],\n",
    "                      parse_dates=True)"
   ]
  },
  {
   "cell_type": "code",
   "execution_count": 29,
   "id": "0077a537",
   "metadata": {},
   "outputs": [],
   "source": [
    "old_fg_close = old_close['FG'].groupby(level=0).last()"
   ]
  },
  {
   "cell_type": "code",
   "execution_count": 30,
   "id": "f25c1648",
   "metadata": {},
   "outputs": [],
   "source": [
    "new_close = pd.read_csv(os.path.join(NEW_PATH, CLOSE_NAME),\n",
    "                       index_col = [0,1],\n",
    "                      parse_dates=True)"
   ]
  },
  {
   "cell_type": "code",
   "execution_count": 31,
   "id": "463e4e24",
   "metadata": {},
   "outputs": [],
   "source": [
    "new_fg_close = new_close['FG'].groupby(level=0).last()"
   ]
  },
  {
   "cell_type": "code",
   "execution_count": 35,
   "id": "b7cd18f7",
   "metadata": {},
   "outputs": [
    {
     "data": {
      "text/plain": [
       "<AxesSubplot:>"
      ]
     },
     "execution_count": 35,
     "metadata": {},
     "output_type": "execute_result"
    },
    {
     "data": {
      "image/png": "[encoded data removed]",
      "text/plain": [
       "<Figure size 432x288 with 1 Axes>"
      ]
     },
     "metadata": {
      "needs_background": "light"
     },
     "output_type": "display_data"
    }
   ],
   "source": [
    "(new_fg_close/old_fg_close).plot()"
   ]
  },
  {
   "cell_type": "code",
   "execution_count": 36,
   "id": "293eeb78",
   "metadata": {},
   "outputs": [],
   "source": [
    "fg_data_copy = fg_data.copy(deep=True)"
   ]
  },
  {
   "cell_type": "code",
   "execution_count": 37,
   "id": "b1f8160e",
   "metadata": {},
   "outputs": [],
   "source": [
    "fg_data_copy = fg_data_copy.droplevel(level=0)"
   ]
  },
  {
   "cell_type": "code",
   "execution_count": 39,
   "id": "dc03d6ea",
   "metadata": {},
   "outputs": [],
   "source": [
    "fg_data_copy.index = pd.to_datetime(fg_data_copy.index)"
   ]
  },
  {
   "cell_type": "code",
   "execution_count": 42,
   "id": "ab373620",
   "metadata": {},
   "outputs": [
    {
     "data": {
      "text/plain": [
       "date\n",
       "2017-01-03     959.114155\n",
       "2017-01-04     962.300581\n",
       "2017-01-05     964.690400\n",
       "2017-01-06     960.707368\n",
       "2017-01-09     978.232710\n",
       "                 ...     \n",
       "2020-12-25    1931.880343\n",
       "2020-12-28    1868.291806\n",
       "2020-12-29    1874.347857\n",
       "2020-12-30    1869.301147\n",
       "2020-12-31    1876.366541\n",
       "Name: close, Length: 974, dtype: float64"
      ]
     },
     "execution_count": 42,
     "metadata": {},
     "output_type": "execute_result"
    }
   ],
   "source": [
    "fg_data_copy['close']"
   ]
  },
  {
   "cell_type": "code",
   "execution_count": 43,
   "id": "55ad258d",
   "metadata": {},
   "outputs": [
    {
     "data": {
      "text/plain": [
       "<AxesSubplot:>"
      ]
     },
     "execution_count": 43,
     "metadata": {},
     "output_type": "execute_result"
    },
    {
     "data": {
      "image/png": "[encoded data removed]",
      "text/plain": [
       "<Figure size 432x288 with 1 Axes>"
      ]
     },
     "metadata": {
      "needs_background": "light"
     },
     "output_type": "display_data"
    }
   ],
   "source": [
    "(new_fg_close/fg_data_copy['close']).plot()"
   ]
  },
  {
   "cell_type": "code",
   "execution_count": 47,
   "id": "d07d6e17",
   "metadata": {},
   "outputs": [
    {
     "data": {
      "text/plain": [
       "1.0579710144927537"
      ]
     },
     "execution_count": 47,
     "metadata": {},
     "output_type": "execute_result"
    }
   ],
   "source": [
    "1.46/1.38"
   ]
  },
  {
   "cell_type": "code",
   "execution_count": 45,
   "id": "b93e8c98",
   "metadata": {},
   "outputs": [
    {
     "data": {
      "text/plain": [
       "<AxesSubplot:xlabel='date'>"
      ]
     },
     "execution_count": 45,
     "metadata": {},
     "output_type": "execute_result"
    },
    {
     "data": {
      "image/png": "[encoded data removed]",
      "text/plain": [
       "<Figure size 432x288 with 1 Axes>"
      ]
     },
     "metadata": {
      "needs_background": "light"
     },
     "output_type": "display_data"
    }
   ],
   "source": [
    "(fg_data_copy['close']/old_fg_close).plot()"
   ]
  },
  {
   "cell_type": "code",
   "execution_count": 46,
   "id": "c19711ef",
   "metadata": {},
   "outputs": [
    {
     "data": {
      "text/plain": [
       "1.054945054945055"
      ]
     },
     "execution_count": 46,
     "metadata": {},
     "output_type": "execute_result"
    }
   ],
   "source": [
    "960/910"
   ]
  },
  {
   "cell_type": "code",
   "execution_count": 48,
   "id": "4e709b10",
   "metadata": {},
   "outputs": [
    {
     "data": {
      "text/plain": [
       "1.078125"
      ]
     },
     "execution_count": 48,
     "metadata": {},
     "output_type": "execute_result"
    }
   ],
   "source": [
    "1380/1280"
   ]
  },
  {
   "cell_type": "code",
   "execution_count": 49,
   "id": "a49b72b4",
   "metadata": {},
   "outputs": [],
   "source": [
    "old_open = pd.read_csv(os.path.join(OLD_PATH, OPEN_NAME),\n",
    "                       index_col = [0,1],\n",
    "                      parse_dates=True)"
   ]
  },
  {
   "cell_type": "code",
   "execution_count": 50,
   "id": "952e5919",
   "metadata": {},
   "outputs": [],
   "source": [
    "old_fg_open = old_open['FG'].groupby(level=0).last()"
   ]
  },
  {
   "cell_type": "code",
   "execution_count": 51,
   "id": "17b693fc",
   "metadata": {},
   "outputs": [],
   "source": [
    "new_open = pd.read_csv(os.path.join(NEW_PATH, OPEN_NAME),\n",
    "                       index_col = [0,1],\n",
    "                      parse_dates=True)\n",
    "new_fg_open = new_open['FG'].groupby(level=0).last()"
   ]
  },
  {
   "cell_type": "code",
   "execution_count": 58,
   "id": "d475e8f0",
   "metadata": {},
   "outputs": [
    {
     "data": {
      "text/plain": [
       "<AxesSubplot:>"
      ]
     },
     "execution_count": 58,
     "metadata": {},
     "output_type": "execute_result"
    },
    {
     "data": {
      "image/png": "[encoded data removed]",
      "text/plain": [
       "<Figure size 432x288 with 1 Axes>"
      ]
     },
     "metadata": {
      "needs_background": "light"
     },
     "output_type": "display_data"
    }
   ],
   "source": [
    "(new_fg_open/old_fg_open).plot()"
   ]
  },
  {
   "cell_type": "code",
   "execution_count": 53,
   "id": "febc2715",
   "metadata": {},
   "outputs": [
    {
     "data": {
      "text/plain": [
       "<AxesSubplot:>"
      ]
     },
     "execution_count": 53,
     "metadata": {},
     "output_type": "execute_result"
    },
    {
     "data": {
      "image/png": "[encoded data removed]",
      "text/plain": [
       "<Figure size 432x288 with 1 Axes>"
      ]
     },
     "metadata": {
      "needs_background": "light"
     },
     "output_type": "display_data"
    }
   ],
   "source": [
    "(new_fg_open/fg_data_copy['open']).plot()"
   ]
  },
  {
   "cell_type": "code",
   "execution_count": 54,
   "id": "1130ccc5",
   "metadata": {},
   "outputs": [
    {
     "data": {
      "text/plain": [
       "<AxesSubplot:xlabel='date'>"
      ]
     },
     "execution_count": 54,
     "metadata": {},
     "output_type": "execute_result"
    },
    {
     "data": {
      "image/png": "[encoded data removed]",
      "text/plain": [
       "<Figure size 432x288 with 1 Axes>"
      ]
     },
     "metadata": {
      "needs_background": "light"
     },
     "output_type": "display_data"
    }
   ],
   "source": [
    "(fg_data_copy['open']/old_fg_open).plot()"
   ]
  },
  {
   "cell_type": "code",
   "execution_count": 55,
   "id": "163b18ab",
   "metadata": {},
   "outputs": [
    {
     "data": {
      "text/plain": [
       "1.1136363636363635"
      ]
     },
     "execution_count": 55,
     "metadata": {},
     "output_type": "execute_result"
    }
   ],
   "source": [
    "980/880"
   ]
  },
  {
   "cell_type": "code",
   "execution_count": 56,
   "id": "27bd69a4",
   "metadata": {},
   "outputs": [
    {
     "data": {
      "text/plain": [
       "1.102941176470588"
      ]
     },
     "execution_count": 56,
     "metadata": {},
     "output_type": "execute_result"
    }
   ],
   "source": [
    "1.5/1.36"
   ]
  },
  {
   "cell_type": "code",
   "execution_count": null,
   "id": "889727ab",
   "metadata": {},
   "outputs": [],
   "source": []
  }
 ],
 "metadata": {
  "kernelspec": {
   "display_name": "Python 3 (ipykernel)",
   "language": "python",
   "name": "python3"
  },
  "language_info": {
   "codemirror_mode": {
    "name": "ipython",
    "version": 3
   },
   "file_extension": ".py",
   "mimetype": "text/x-python",
   "name": "python",
   "nbconvert_exporter": "python",
   "pygments_lexer": "ipython3",
   "version": "3.8.5"
  }
 },
 "nbformat": 4,
 "nbformat_minor": 5
}
